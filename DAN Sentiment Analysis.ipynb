{
 "cells": [
  {
   "cell_type": "markdown",
   "id": "f3e8bd0a-11c1-40df-93ba-744484401f06",
   "metadata": {},
   "source": [
    "# Import Libraries"
   ]
  },
  {
   "cell_type": "code",
   "execution_count": null,
   "id": "ab7d3e48-7a83-42bc-b533-bb43102e326e",
   "metadata": {},
   "outputs": [],
   "source": [
    "import re\n",
    "import time\n",
    "import itertools\n",
    "import torch\n",
    "import torch.nn as nn\n",
    "import torch.optim as optim\n",
    "import torch.nn.functional as F\n",
    "import torchvision.transforms as transforms\n",
    "import torchvision.datasets as datasets\n",
    "import numpy as np\n",
    "import pandas as pd\n",
    "import matplotlib.pyplot as plt\n",
    "from nltk.corpus import stopwords\n",
    "from torch.utils.data import Dataset, DataLoader\n",
    "from sklearn.model_selection import train_test_split"
   ]
  },
  {
   "cell_type": "code",
   "execution_count": null,
   "id": "67475985-c1aa-4464-b521-e91ceb344ccc",
   "metadata": {},
   "outputs": [],
   "source": [
    "device = torch.device(\"cuda\" if torch.cuda.is_available() else \"cpu\")\n",
    "device"
   ]
  },
  {
   "cell_type": "markdown",
   "id": "d62a4243-2b5b-492b-94c3-d972bcc563d5",
   "metadata": {},
   "source": [
    "# Load Data"
   ]
  },
  {
   "cell_type": "code",
   "execution_count": null,
   "id": "b013005e-8f3f-408f-a3c3-1dd19573a962",
   "metadata": {},
   "outputs": [],
   "source": [
    "df = pd.read_csv(\"/mnt/d/Datasets/movie.csv\")\n",
    "df.head()"
   ]
  },
  {
   "cell_type": "code",
   "execution_count": null,
   "id": "28de8467-7a7b-4465-ac85-47e0bf300e3f",
   "metadata": {},
   "outputs": [],
   "source": [
    "df.label.value_counts()"
   ]
  },
  {
   "cell_type": "markdown",
   "id": "dc5417c4-2314-4c17-a362-88a9853b32e2",
   "metadata": {},
   "source": [
    "# Preprocess"
   ]
  },
  {
   "cell_type": "code",
   "execution_count": null,
   "id": "0b7b489e-2204-4839-899c-1a547ba94877",
   "metadata": {},
   "outputs": [],
   "source": [
    "stop_words = [x.strip() for x in open('/mnt/d/Datasets/SmartStoplist.txt','r').read().split('\\n')]"
   ]
  },
  {
   "cell_type": "code",
   "execution_count": null,
   "id": "a97411e3-d6d8-4f74-9de9-0950f95852c7",
   "metadata": {},
   "outputs": [],
   "source": [
    "def preprocess_text(text):\n",
    "    text = text.lower()\n",
    "    text = re.sub(r'\\d+', '', text)\n",
    "    text = re.sub(r'[^\\w\\s]', '', text)\n",
    "    text = ' '.join(word for word in text.split() if word not in stop_words)\n",
    "    return text.split()"
   ]
  },
  {
   "cell_type": "code",
   "execution_count": null,
   "id": "558364d0-864b-4ccb-beb6-acf5032000c9",
   "metadata": {},
   "outputs": [],
   "source": [
    "df['cleaned'] = df['text'].apply(preprocess_text)"
   ]
  },
  {
   "cell_type": "code",
   "execution_count": null,
   "id": "0bfdcb1e-5917-497d-a788-8c2a6c4c7265",
   "metadata": {},
   "outputs": [],
   "source": [
    "data = [(row['cleaned'], row['label']) for _, row in df.iterrows()]"
   ]
  },
  {
   "cell_type": "code",
   "execution_count": null,
   "id": "280fe749-855e-4a8a-9f53-035b83620914",
   "metadata": {},
   "outputs": [],
   "source": [
    "def load_glove_embeddings(file_path):\n",
    "    word_to_index = {\"<OOV>\": 0}\n",
    "    index_to_word = {0: \"<OOV>\"}\n",
    "    embeddings = []\n",
    "\n",
    "    embeddings.append(np.zeros(300))\n",
    "    with open(file_path, 'r', encoding='utf-8') as f:\n",
    "        for line in f:\n",
    "            values = line.split()\n",
    "            word = values[0]\n",
    "            vector = np.asarray(values[1:], dtype='float32')\n",
    "            index = len(word_to_index)\n",
    "            word_to_index[word] = index\n",
    "            index_to_word[index] = word\n",
    "            embeddings.append(vector)\n",
    "    \n",
    "    return word_to_index, index_to_word, torch.tensor(np.array(embeddings), dtype=torch.float)"
   ]
  },
  {
   "cell_type": "code",
   "execution_count": null,
   "id": "f6dfea2a-0124-4e63-8b58-3a62f415afec",
   "metadata": {},
   "outputs": [],
   "source": [
    "glove_path = \"/mnt/d/Datasets/glove.6B.300d.txt\""
   ]
  },
  {
   "cell_type": "code",
   "execution_count": null,
   "id": "24f318ba-d855-4a87-ba20-ff232623123d",
   "metadata": {},
   "outputs": [],
   "source": [
    "word_to_index, index_to_word, weights_matrix = load_glove_embeddings(glove_path)"
   ]
  },
  {
   "cell_type": "markdown",
   "id": "1a740b4d-e050-40bf-8292-16a0b4303c57",
   "metadata": {},
   "source": [
    "# DataLoaders"
   ]
  },
  {
   "cell_type": "code",
   "execution_count": null,
   "id": "8c1a4ac0-5175-4657-84e3-11b8eb5f40ef",
   "metadata": {},
   "outputs": [],
   "source": [
    "class IMDBDataset(Dataset):\n",
    "    def __init__(self, texts, word_to_index):\n",
    "        self.texts = texts\n",
    "        self.word_to_index = word_to_index\n",
    "\n",
    "    def __getitem__(self, index):\n",
    "        text, label = self.texts[index]\n",
    "        vectorized = [self.word_to_index.get(word, self.word_to_index[\"<OOV>\"]) for word in text]\n",
    "        return torch.tensor(vectorized, dtype=torch.long), label\n",
    "\n",
    "    def __len__(self):\n",
    "        return len(self.texts)"
   ]
  },
  {
   "cell_type": "code",
   "execution_count": null,
   "id": "632c0ef5-5ea9-4ed5-800f-ef1c24fafb0e",
   "metadata": {},
   "outputs": [],
   "source": [
    "train_data, test_data = train_test_split(data, test_size=0.1, random_state=42)"
   ]
  },
  {
   "cell_type": "code",
   "execution_count": null,
   "id": "712bbe08-5068-4fe2-a6d9-1f7714ceca23",
   "metadata": {},
   "outputs": [],
   "source": [
    "train_dataset = IMDBDataset(train_data, word_to_index)\n",
    "test_dataset = IMDBDataset(test_data, word_to_index)"
   ]
  },
  {
   "cell_type": "code",
   "execution_count": null,
   "id": "473737b4-16d8-4948-9be2-63115d3038f8",
   "metadata": {},
   "outputs": [],
   "source": [
    "def collate_fn(batch):\n",
    "    texts, labels = zip(*batch)\n",
    "    lengths = [len(text) for text in texts]\n",
    "    max_len = max(lengths)\n",
    "    padded_texts = torch.zeros(len(texts), max_len, dtype=torch.long)\n",
    "\n",
    "    for i, text in enumerate(texts):\n",
    "        padded_texts[i, :len(text)] = text\n",
    "\n",
    "    return padded_texts, torch.tensor(lengths, dtype=torch.float), torch.tensor(labels, dtype=torch.long)"
   ]
  },
  {
   "cell_type": "code",
   "execution_count": null,
   "id": "88fbfbc7-cd2e-43b8-a971-3c821553a2be",
   "metadata": {},
   "outputs": [],
   "source": [
    "batch_size = 16\n",
    "train_dataloader = DataLoader(train_dataset, batch_size=batch_size, collate_fn=collate_fn)\n",
    "test_dataloader = DataLoader(test_dataset, batch_size=batch_size, collate_fn=collate_fn)"
   ]
  },
  {
   "cell_type": "markdown",
   "id": "afcd3466-1562-4e6d-97be-ce9a8399736a",
   "metadata": {},
   "source": [
    "# Model"
   ]
  },
  {
   "cell_type": "code",
   "execution_count": null,
   "id": "6ff769d2-f7f0-42de-a869-30c4a33d0dd1",
   "metadata": {},
   "outputs": [],
   "source": [
    "class DeepAveragingNetwork(nn.Module):\n",
    "    def __init__(self, num_classes, weights_matrix):\n",
    "        super(DeepAveragingNetwork, self).__init__()\n",
    "        \n",
    "        self.embedding_layer = nn.Embedding(weights_matrix.size(0), weights_matrix.size(1))\n",
    "        self.embedding_layer.load_state_dict({'weight': weights_matrix})\n",
    "        self.embedding_layer.weight.requires_grad = False\n",
    "        \n",
    "        self.model = nn.Sequential(\n",
    "            nn.Linear(weights_matrix.size(1), 256),\n",
    "            nn.ReLU(),\n",
    "            nn.BatchNorm1d(256),\n",
    "\n",
    "            nn.Linear(256, 128),\n",
    "            nn.ReLU(),\n",
    "            nn.BatchNorm1d(128),\n",
    "            nn.Dropout(0.2),\n",
    "            \n",
    "            nn.Linear(128, 64),\n",
    "            nn.ReLU(),\n",
    "            nn.Dropout(0.2),\n",
    "\n",
    "            nn.Linear(64, num_classes),\n",
    "            nn.Softmax(dim=1)\n",
    "        )\n",
    "\n",
    "    def forward(self, inputs, inputs_len):\n",
    "        embed = self.embedding_layer(inputs)\n",
    "        x = embed.sum(dim=1) / inputs_len.view(-1, 1)\n",
    "        return self.model(x)"
   ]
  },
  {
   "cell_type": "code",
   "execution_count": null,
   "id": "3179f68b-48a1-44c8-9cca-a60ecd2a378f",
   "metadata": {},
   "outputs": [],
   "source": [
    "model = DeepAveragingNetwork(num_classes=2, weights_matrix=weights_matrix)\n",
    "model.to(device)"
   ]
  },
  {
   "cell_type": "markdown",
   "id": "af4bf96f-8bfb-454d-87ee-d525a2a42002",
   "metadata": {},
   "source": [
    "# Train"
   ]
  },
  {
   "cell_type": "code",
   "execution_count": null,
   "id": "65be4cc5-6a9f-454e-8aba-e00d594e902a",
   "metadata": {},
   "outputs": [],
   "source": [
    "optimizer = optim.Adam(model.parameters(), lr=0.001)"
   ]
  },
  {
   "cell_type": "code",
   "execution_count": null,
   "id": "a129c3ec-7b66-4a92-9212-d3584601f66a",
   "metadata": {},
   "outputs": [],
   "source": [
    "criterion = nn.CrossEntropyLoss()"
   ]
  },
  {
   "cell_type": "code",
   "execution_count": null,
   "id": "f8031db9-8c20-4ca6-99da-8acba9a3a98a",
   "metadata": {},
   "outputs": [],
   "source": [
    "epochs = 25"
   ]
  },
  {
   "cell_type": "code",
   "execution_count": null,
   "id": "768ec1ee-99f5-4e9c-95d0-926797bd2803",
   "metadata": {},
   "outputs": [],
   "source": [
    "losses = [] "
   ]
  },
  {
   "cell_type": "code",
   "execution_count": null,
   "id": "dce12cf7-7582-440d-8437-14ec1defbeae",
   "metadata": {},
   "outputs": [],
   "source": [
    "for epoch in range(epochs):\n",
    "    curr_loss = 0.0\n",
    "    model.train()\n",
    "    \n",
    "    for texts, lengths, labels in train_dataloader:\n",
    "        texts, lengths, labels = texts.to(device), lengths.to(device), labels.to(device)\n",
    "\n",
    "        optimizer.zero_grad()\n",
    "\n",
    "        outputs = model(texts, lengths)\n",
    "        \n",
    "        loss = criterion(outputs, labels)\n",
    "        loss.backward()\n",
    "\n",
    "        optimizer.step()\n",
    "\n",
    "        curr_loss += loss.item()\n",
    "    \n",
    "    avg_loss = curr_loss / len(train_dataloader)\n",
    "    losses.append(avg_loss)\n",
    "    print(f\"Epoch [{epoch + 1}/{epochs}], Average Loss: {avg_loss:.3f}\")"
   ]
  },
  {
   "cell_type": "code",
   "execution_count": null,
   "id": "6e23f527-4a07-4985-883d-ec24d8e3594f",
   "metadata": {},
   "outputs": [],
   "source": [
    "plt.figure(figsize=(8, 6))\n",
    "plt.title(\"Loss Curve\")\n",
    "plt.plot(range(epochs), losses, marker=\"o\")\n",
    "plt.show()"
   ]
  },
  {
   "cell_type": "markdown",
   "id": "e3dcce52-fb87-4c3a-b599-438e2831c035",
   "metadata": {},
   "source": [
    "# Test"
   ]
  },
  {
   "cell_type": "code",
   "execution_count": null,
   "id": "884d95e8-291f-4066-b4e4-5a4b06774abe",
   "metadata": {},
   "outputs": [],
   "source": [
    "classes = [\"negative\", \"positive\"]\n",
    "correct_pred = {class_name: 0 for class_name in classes}\n",
    "total_pred = {class_name: 0 for class_name in classes}"
   ]
  },
  {
   "cell_type": "code",
   "execution_count": null,
   "id": "4f942d07-555f-4e1f-b644-9e4d839f02d1",
   "metadata": {},
   "outputs": [],
   "source": [
    "with torch.no_grad():\n",
    "    model.eval()\n",
    "\n",
    "    for texts, lengths, labels in test_dataloader:\n",
    "        texts, lengths, labels = texts.to(device), lengths.to(device), labels.to(device)\n",
    "\n",
    "        outputs = model(texts, lengths)\n",
    "        _, predictions = torch.max(outputs, 1)\n",
    "        for label, prediction in zip(labels, predictions):\n",
    "            if label == prediction:\n",
    "                correct_pred[classes[label]] += 1\n",
    "\n",
    "            total_pred[classes[label]] += 1"
   ]
  },
  {
   "cell_type": "code",
   "execution_count": null,
   "id": "a585c40f-c8df-4919-9795-e7e62c06d084",
   "metadata": {},
   "outputs": [],
   "source": [
    "for class_name, correct_count in correct_pred.items():\n",
    "    accuracy = 100 * float(correct_count) / total_pred[class_name]\n",
    "    print(f\"Accuracy for class: {class_name} is {accuracy:.2f}%\")"
   ]
  },
  {
   "cell_type": "code",
   "execution_count": null,
   "id": "2e512f7d-1fd6-46e3-90b0-e2280bbb550d",
   "metadata": {},
   "outputs": [],
   "source": [
    "total_accuracy = 100 * float(np.sum(list(correct_pred.values())) / np.sum(list(total_pred.values())))\n",
    "print(f'Total Accuracy: {total_accuracy:.2f} %')"
   ]
  },
  {
   "cell_type": "code",
   "execution_count": null,
   "id": "72baf360-e197-407e-965d-85b4b54ae2c4",
   "metadata": {},
   "outputs": [],
   "source": []
  },
  {
   "cell_type": "code",
   "execution_count": null,
   "id": "855fb035-5d40-44c5-8a4d-17802a805b7f",
   "metadata": {},
   "outputs": [],
   "source": []
  }
 ],
 "metadata": {
  "kernelspec": {
   "display_name": "Python 3 (ipykernel)",
   "language": "python",
   "name": "python3"
  },
  "language_info": {
   "codemirror_mode": {
    "name": "ipython",
    "version": 3
   },
   "file_extension": ".py",
   "mimetype": "text/x-python",
   "name": "python",
   "nbconvert_exporter": "python",
   "pygments_lexer": "ipython3",
   "version": "3.10.12"
  }
 },
 "nbformat": 4,
 "nbformat_minor": 5
}
